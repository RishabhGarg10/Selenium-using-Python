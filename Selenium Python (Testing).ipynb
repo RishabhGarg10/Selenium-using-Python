{
 "cells": [
  {
   "cell_type": "code",
   "execution_count": null,
   "id": "fca671f5",
   "metadata": {},
   "outputs": [],
   "source": [
    "#unit test on selenium (6.1 selenium doc)\n",
    "import unittest\n",
    "from selenium import webdriver\n",
    "from selenium.webdriver.chrome.service import Service\n",
    "import page\n",
    "\n",
    "class PythonOrgSearch(unittest.TestCase):\n",
    "    \n",
    "    def setUp(self):\n",
    "        s = Service(\"C:\\Program Files (x86)\\chromedriver.exe\")\n",
    "        self.driver = webdriver.Chrome(service=s)\n",
    "        self.driver.get(\"http://www.python.org\")\n",
    "        \n",
    "    def tearDown(self):\n",
    "        self.driver.close()    "
   ]
  },
  {
   "cell_type": "code",
   "execution_count": null,
   "id": "e3c1860f",
   "metadata": {},
   "outputs": [],
   "source": [
    "#Locators script\n",
    "from selenium.webdriver.common.by import By\n",
    "\n",
    "class MainPageLocators(object):\n",
    "    O_BUTTON = (By.ID, 'submit')\n",
    "\n",
    "class SearchResultsPageLocators(object):\n",
    "    pass"
   ]
  },
  {
   "cell_type": "code",
   "execution_count": null,
   "id": "1153c6ae",
   "metadata": {},
   "outputs": [],
   "source": [
    "#Page Script\n",
    "from element import BasePageElement\n",
    "from locators import MainPageLocators\n",
    "\n",
    "class SearchTextElement(BasePageElement):\n",
    "    locator = 'q'\n",
    "\n",
    "\n",
    "class BasePage(object):\n",
    "    def __init__(self, driver):\n",
    "        self.driver = driver\n",
    "\n",
    "\n",
    "class MainPage(BasePage):\n",
    "    search_text_element = SearchTextElement() #Declares a variable that will contain the retrieved text\n",
    "\n",
    "    def is_title_matches(self):\n",
    "        return \"Python\" in self.driver.title\n",
    "\n",
    "    def click_go_button(self):\n",
    "        element = self.driver.find_element(*MainPageLocators.GO_BUTTON)\n",
    "        element.click()\n",
    "\n",
    "\n",
    "class SearchResultsPage(BasePage):\n",
    "    def is_results_found(self):\n",
    "        return \"No results found.\" not in self.driver.page_source"
   ]
  }
 ],
 "metadata": {
  "kernelspec": {
   "display_name": "Python 3",
   "language": "python",
   "name": "python3"
  },
  "language_info": {
   "codemirror_mode": {
    "name": "ipython",
    "version": 3
   },
   "file_extension": ".py",
   "mimetype": "text/x-python",
   "name": "python",
   "nbconvert_exporter": "python",
   "pygments_lexer": "ipython3",
   "version": "3.8.8"
  }
 },
 "nbformat": 4,
 "nbformat_minor": 5
}
