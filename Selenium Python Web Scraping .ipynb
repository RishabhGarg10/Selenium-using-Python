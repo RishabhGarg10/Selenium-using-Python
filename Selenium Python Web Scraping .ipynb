{
 "cells": [
  {
   "cell_type": "code",
   "execution_count": 101,
   "id": "851eed73",
   "metadata": {},
   "outputs": [],
   "source": [
    "# !pip install Selenium"
   ]
  },
  {
   "cell_type": "code",
   "execution_count": 137,
   "id": "868f6228",
   "metadata": {},
   "outputs": [],
   "source": [
    "#UPDATED CODE\n",
    "from selenium import webdriver\n",
    "from selenium.webdriver.chrome.service import Service\n",
    "from selenium.webdriver.common.keys import Keys\n",
    "from selenium.webdriver.common.by import By\n",
    "from selenium.webdriver.support.ui import WebDriverWait\n",
    "from selenium.webdriver.support import expected_conditions as EC\n",
    "import time\n",
    "\n",
    "PATH = \"C:\\Program Files (x86)\\chromedriver.exe\"\n",
    "s = Service(PATH)\n",
    "\n",
    "driver = webdriver.Chrome(service=s) #initialising drive\n",
    "driver.get(\"https://orteil.dashnet.org/cookieclicker/\")\n",
    "#driver.get(\"https://www.techwithtim.net/\") #opening a webpage using driver"
   ]
  },
  {
   "cell_type": "code",
   "execution_count": 103,
   "id": "e1c76f00",
   "metadata": {
    "scrolled": true
   },
   "outputs": [],
   "source": [
    "search = driver.find_element(\"name\", \"s\") #search element by name. can do for id and class\n",
    "search.send_keys(\"test\") #text to go in \"search\"\n",
    "search.send_keys(Keys.RETURN) #RETURN (enter key) to search for text\n",
    "time.sleep(5)\n"
   ]
  },
  {
   "cell_type": "code",
   "execution_count": null,
   "id": "23b3d6e7",
   "metadata": {},
   "outputs": [],
   "source": [
    "# .find_elements to return all the strings\n",
    "# .find_element  to return only first string"
   ]
  },
  {
   "cell_type": "code",
   "execution_count": 104,
   "id": "30fa0469",
   "metadata": {
    "scrolled": true
   },
   "outputs": [
    {
     "name": "stdout",
     "output_type": "stream",
     "text": [
      "SEARCH RESULTS FOR: TEST\n",
      "November 4, 2019\n",
      "HTTP MethodsIn this tutorial we will talk about HTTP methods. HTTP methods are the standard way of sending information to and from a web server. To break it down, a website runs on a server or multiple servers and simple returns information to a client (web-browser). Information is exchanged between the client and the server […]\n",
      "November 4, 2019\n",
      "Creating a Base Template So you may have realized that creating new web pages for every single page on our website is extremely inefficient. Especially when our website follows a theme and has similar elements (like a sidebar) on every page. This is where template inheritance comes in. We will talk about how to inherit […]\n",
      "October 29, 2019\n",
      "Redirecting ContinuedStarting from where we left off in the last tutorial. I wanted to show how to redirect to a function that takes an argument (like our user function). To do this we simply need to define the parameter name and a value in the url_for function, like below.from flask import Flask, redirect, url_for app […]\n",
      "October 28, 2019\n",
      "What is Flask?Flask is a known as a micro web framework. This means it provides some basic functionality to allow developers to build simple websites. It does not come with all the bells and whistles like some other web frameworks like django have and therefore is typically not used for complex websites. However, there is […]\n",
      "September 8, 2019\n",
      "Up until this point we have only been able to get events the next upcoming events from our google calendar. In this tutorial I will show you how you can retrieve a list of events that occur in one day. Using Pyttsx3 In the previous tutorials we used gTTS (Google Text-to-Speech) to output audio and […]\n",
      "September 8, 2019\n",
      "In this tutorial we will finish our get_date() function and test it out! PLEASE USE THE CODE BELOW, IT FIXES SOME ERRORS FROM THE VIDEO ABOVE Finishing get_date() Now that we have extracted the information from the text it’s time to process it. There are a few scenarios we need to consider: 1. We have […]\n",
      "September 4, 2019\n",
      "Getting User Input In the last tutorial we learned how to output sound from our python script using the gTTS module. In this video we will do the opposite, we will get user input and turn it into text data that we can process. Let’s get started by creating a function called get_audio. def get_audio(): […]\n",
      "July 19, 2019\n",
      "This PyQt5 Tutorial will show you how to create message boxes/popup windows using pyqt. We will use the QMessageBox class to accomplish this. Creating a Basic GUI I’ve started this tutorial by creating a very minimal GUI that contains one button. This way we can use the button press to trigger a popup/mesagebox. This is […]\n",
      "July 18, 2019\n",
      "This PyQt5 Combobox tutorial will show how to create, use and manipulate comboboxes. For those of you unaware a combobox is a box that allows you to choose an item from a list of choices. Creating The GUI For this tutorial we will create a GUI that can simulate the XOR function. We will use […]\n",
      "July 11, 2019\n",
      "This PyQt5 tutorial will show you how to display images using something called a QPixmap. Displaying an Image For this tutorial we will create an image using PyQt Designer and then change them image source from our python code. To display an image we can actually use a label! We will start by dragging in […]\n",
      "Posts navigation\n",
      "1 2 … 4 Next →\n",
      "HTTP MethodsIn this tutorial we will talk about HTTP methods. HTTP methods are the standard way of sending information to and from a web server. To break it down, a website runs on a server or multiple servers and simple returns information to a client (web-browser). Information is exchanged between the client and the server […]\n",
      "Creating a Base Template So you may have realized that creating new web pages for every single page on our website is extremely inefficient. Especially when our website follows a theme and has similar elements (like a sidebar) on every page. This is where template inheritance comes in. We will talk about how to inherit […]\n",
      "Redirecting ContinuedStarting from where we left off in the last tutorial. I wanted to show how to redirect to a function that takes an argument (like our user function). To do this we simply need to define the parameter name and a value in the url_for function, like below.from flask import Flask, redirect, url_for app […]\n",
      "What is Flask?Flask is a known as a micro web framework. This means it provides some basic functionality to allow developers to build simple websites. It does not come with all the bells and whistles like some other web frameworks like django have and therefore is typically not used for complex websites. However, there is […]\n",
      "Up until this point we have only been able to get events the next upcoming events from our google calendar. In this tutorial I will show you how you can retrieve a list of events that occur in one day. Using Pyttsx3 In the previous tutorials we used gTTS (Google Text-to-Speech) to output audio and […]\n",
      "In this tutorial we will finish our get_date() function and test it out! PLEASE USE THE CODE BELOW, IT FIXES SOME ERRORS FROM THE VIDEO ABOVE Finishing get_date() Now that we have extracted the information from the text it’s time to process it. There are a few scenarios we need to consider: 1. We have […]\n",
      "Getting User Input In the last tutorial we learned how to output sound from our python script using the gTTS module. In this video we will do the opposite, we will get user input and turn it into text data that we can process. Let’s get started by creating a function called get_audio. def get_audio(): […]\n",
      "This PyQt5 Tutorial will show you how to create message boxes/popup windows using pyqt. We will use the QMessageBox class to accomplish this. Creating a Basic GUI I’ve started this tutorial by creating a very minimal GUI that contains one button. This way we can use the button press to trigger a popup/mesagebox. This is […]\n",
      "This PyQt5 Combobox tutorial will show how to create, use and manipulate comboboxes. For those of you unaware a combobox is a box that allows you to choose an item from a list of choices. Creating The GUI For this tutorial we will create a GUI that can simulate the XOR function. We will use […]\n",
      "This PyQt5 tutorial will show you how to display images using something called a QPixmap. Displaying an Image For this tutorial we will create an image using PyQt Designer and then change them image source from our python code. To display an image we can actually use a label! We will start by dragging in […]\n"
     ]
    }
   ],
   "source": [
    "#accessing main element in search page\n",
    "try:\n",
    "    main = WebDriverWait(driver, 10).until(EC.presence_of_element_located((By.ID, \"main\"))) #a 10 sec delay for page to open\n",
    "    print(main.text)\n",
    "\n",
    "#accessing TAG_NAME in main to scrape articles\n",
    "    articles = driver.find_elements(By.TAG_NAME, 'article')\n",
    "\n",
    "#accessing CLASS_NAME in article to scrape articles_only\n",
    "    articles_only = driver.find_elements(By.CLASS_NAME, 'entry-summary')\n",
    "    for article_only in articles_only:\n",
    "        print(article_only.text)\n",
    "except:\n",
    "    driver.quit()"
   ]
  },
  {
   "cell_type": "code",
   "execution_count": 98,
   "id": "3e4a7a84",
   "metadata": {},
   "outputs": [],
   "source": [
    "#converting string into list object using split method\n",
    "type(article_only.text)\n",
    "\n",
    "list_article  = []\n",
    "list_article = article_only.text.split(\"[…]\")\n",
    "list_article[0]"
   ]
  },
  {
   "cell_type": "code",
   "execution_count": 125,
   "id": "28a8d67c",
   "metadata": {},
   "outputs": [],
   "source": [
    "#accessing our website using links text\n",
    "link = driver.find_element(By.LINK_TEXT, 'Machine Learning With Python')\n",
    "link.click()\n",
    "try:\n",
    "    main = WebDriverWait(driver, 10).until(EC.presence_of_element_located((By.LINK_TEXT, \"K Means Clustering P.1 – How it Works\"))) #a 10 sec delay for page to open\n",
    "    main.click()\n",
    "    main = WebDriverWait(driver, 10).until(EC.presence_of_element_located((By.LINK_TEXT, \"Linear Regression P.2\"))) #a 10 sec delay for page to open\n",
    "    main.click()\n",
    "\n",
    "except:\n",
    "    driver.quit()\n"
   ]
  },
  {
   "cell_type": "code",
   "execution_count": 140,
   "id": "bfa12675",
   "metadata": {},
   "outputs": [],
   "source": [
    "#action chains = an automated mouse/keyboard click/press feature\n",
    "from selenium.webdriver.common.action_chains import ActionChains\n",
    "driver.quit()\n",
    "\n",
    "driver = webdriver.Chrome(service=s)\n",
    "driver.get(\"https://orteil.dashnet.org/cookieclicker/\") #a 10 sec delay for page to open\n",
    "driver.implicitly_wait(10)\n",
    "\n",
    "lang = driver.find_element(By.ID, \"langSelect-EN\")\n",
    "lang.click()\n",
    "\n",
    "cookie = driver.find_element(By.ID, \"bigCookie\")\n",
    "cookie_count = driver.find_element(By.ID, \"cookies\")\n",
    "\n",
    "items = [driver.find_element(By.ID, (\"productPrice\" + str(i) for i in range(1,-1,-1)))]\n",
    "\n",
    "\n",
    "actions = ActionChains(driver) # new actionchains object in action variable\n",
    "actions.click(cookie)\n",
    "\n",
    "for i in range(5000):\n",
    "    actions.perform()\n",
    "    count = int(cookie_count.text.split(\" \")[0])\n",
    "    for item in items:\n",
    "        value = int(item.text)\n",
    "        \n",
    "        if value <= count:\n",
    "            upgrade_actions = ActionChains(driver)\n",
    "            upgrade_actions.move_to_element(item)\n",
    "            upgrade_actions.click()\n",
    "            upgrade_actions.perform()"
   ]
  },
  {
   "cell_type": "code",
   "execution_count": 124,
   "id": "a31c7ced",
   "metadata": {},
   "outputs": [],
   "source": []
  },
  {
   "cell_type": "code",
   "execution_count": null,
   "id": "b4502d7d",
   "metadata": {},
   "outputs": [],
   "source": []
  }
 ],
 "metadata": {
  "kernelspec": {
   "display_name": "Python 3",
   "language": "python",
   "name": "python3"
  },
  "language_info": {
   "codemirror_mode": {
    "name": "ipython",
    "version": 3
   },
   "file_extension": ".py",
   "mimetype": "text/x-python",
   "name": "python",
   "nbconvert_exporter": "python",
   "pygments_lexer": "ipython3",
   "version": "3.8.8"
  }
 },
 "nbformat": 4,
 "nbformat_minor": 5
}
